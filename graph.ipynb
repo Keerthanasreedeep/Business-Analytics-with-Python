{
 "cells": [
  {
   "cell_type": "code",
   "execution_count": 1,
   "id": "bcf4f195-8351-4335-b60a-625896786b3f",
   "metadata": {},
   "outputs": [],
   "source": [
    "import numpy as np\n",
    "import matplotlib.pyplot as plt"
   ]
  },
  {
   "cell_type": "code",
   "execution_count": 2,
   "id": "530c0e80-d91f-4ee9-a27b-6fb9bb89ebbe",
   "metadata": {},
   "outputs": [],
   "source": [
    "x = np.array([1,2,3,4,5])\n",
    "y = np.array([7,14,15,18,21])"
   ]
  },
  {
   "cell_type": "code",
   "execution_count": 3,
   "id": "dc4a3fb6-7658-4fc7-bb03-eef830526723",
   "metadata": {},
   "outputs": [
    {
     "data": {
      "text/plain": [
       "array([1, 2, 3, 4, 5])"
      ]
     },
     "execution_count": 3,
     "metadata": {},
     "output_type": "execute_result"
    }
   ],
   "source": [
    "x"
   ]
  },
  {
   "cell_type": "code",
   "execution_count": 4,
   "id": "5bbb9896-e0d2-49dd-92c9-08aaeb5feeeb",
   "metadata": {},
   "outputs": [
    {
     "data": {
      "text/plain": [
       "array([ 7, 14, 15, 18, 21])"
      ]
     },
     "execution_count": 4,
     "metadata": {},
     "output_type": "execute_result"
    }
   ],
   "source": [
    "y"
   ]
  },
  {
   "cell_type": "code",
   "execution_count": 5,
   "id": "e9c6411f-264a-4f9b-90a9-9bbcf6d43b4b",
   "metadata": {},
   "outputs": [],
   "source": [
    "x = ([1,2,3,4,5])\n",
    "y =([7,14,15,18,21])"
   ]
  },
  {
   "cell_type": "code",
   "execution_count": 6,
   "id": "6b491093-d9a2-4ac7-b76c-d44f912561e9",
   "metadata": {},
   "outputs": [],
   "source": [
    "xdash=sum(x)/len(y)"
   ]
  },
  {
   "cell_type": "code",
   "execution_count": 7,
   "id": "d1d36c11-92be-48ad-a6b3-f37b0321611b",
   "metadata": {},
   "outputs": [
    {
     "data": {
      "text/plain": [
       "3.0"
      ]
     },
     "execution_count": 7,
     "metadata": {},
     "output_type": "execute_result"
    }
   ],
   "source": [
    "xdash"
   ]
  },
  {
   "cell_type": "code",
   "execution_count": 8,
   "id": "6a063308-53de-458e-b74c-4b433fc0f6bb",
   "metadata": {},
   "outputs": [
    {
     "data": {
      "text/plain": [
       "<matplotlib.collections.PathCollection at 0x1b4c6f62dc0>"
      ]
     },
     "execution_count": 8,
     "metadata": {},
     "output_type": "execute_result"
    },
    {
     "data": {
      "image/png": "[encoded data removed]",
      "text/plain": [
       "<Figure size 432x288 with 1 Axes>"
      ]
     },
     "metadata": {
      "needs_background": "light"
     },
     "output_type": "display_data"
    }
   ],
   "source": [
    "plt.scatter(x,y)"
   ]
  },
  {
   "cell_type": "code",
   "execution_count": null,
   "id": "35eb7129-4ba8-4ba5-b462-9ae588c673b3",
   "metadata": {},
   "outputs": [],
   "source": [
    "xmindash=[len(x)]\n",
    "for k in x:\n",
    "    g= k-xdash\n",
    "    xmindash"
   ]
  },
  {
   "cell_type": "code",
   "execution_count": 9,
   "id": "2e06c7da-b627-4abf-a04a-060cc563277b",
   "metadata": {},
   "outputs": [],
   "source": [
    "x_mean=np.mean(x)"
   ]
  },
  {
   "cell_type": "code",
   "execution_count": 10,
   "id": "84c80709-6814-4478-a377-5c23e4236de1",
   "metadata": {},
   "outputs": [],
   "source": [
    "y_mean=np.mean(y)"
   ]
  },
  {
   "cell_type": "code",
   "execution_count": 11,
   "id": "5132fb12-f7c7-48ee-9217-449f20047b5b",
   "metadata": {},
   "outputs": [],
   "source": [
    "xMeanDiff=x-x_mean"
   ]
  },
  {
   "cell_type": "code",
   "execution_count": null,
   "id": "9ff79074-c589-4ccf-a2f0-0a92c779eac0",
   "metadata": {},
   "outputs": [],
   "source": []
  }
 ],
 "metadata": {
  "kernelspec": {
   "display_name": "Python 3",
   "language": "python",
   "name": "python3"
  },
  "language_info": {
   "codemirror_mode": {
    "name": "ipython",
    "version": 3
   },
   "file_extension": ".py",
   "mimetype": "text/x-python",
   "name": "python",
   "nbconvert_exporter": "python",
   "pygments_lexer": "ipython3",
   "version": "3.8.8"
  }
 },
 "nbformat": 4,
 "nbformat_minor": 5
}
